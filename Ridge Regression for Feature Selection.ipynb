{
 "cells": [
  {
   "cell_type": "markdown",
   "id": "9047e0a9",
   "metadata": {},
   "source": [
    "# Ridge Regression for Feature Selection in regression problems"
   ]
  },
  {
   "cell_type": "markdown",
   "id": "dde0bf7f",
   "metadata": {},
   "source": [
    "Ridge regression is a method of without wasting any information about predictions it tries to determine variables that have exactly zero effects. Ridge regression is popular because it uses regularization for making predictions and regularization is intended to resolve the problem of overfitting. We mainly find that overfitting is where the size of data is very large and ridge regression works by **penalizing the coefficient of features** and it also **minimizes the errors in prediction.** "
   ]
  },
  {
   "cell_type": "code",
   "execution_count": 1,
   "id": "1596fa7a",
   "metadata": {},
   "outputs": [],
   "source": [
    "#importing important libraries\n",
    "import pandas as pd\n",
    "import numpy as np\n",
    "import matplotlib.pyplot as plt\n",
    "%matplotlib inline\n",
    "import seaborn as sns\n",
    "import warnings\n",
    "warnings.filterwarnings(\"ignore\")"
   ]
  },
  {
   "cell_type": "code",
   "execution_count": 2,
   "id": "92c60bfc",
   "metadata": {},
   "outputs": [],
   "source": [
    "df = pd.read_csv(\"https://raw.githubusercontent.com/arjun0200/Datasets/main/flightdata_sample.csv\")\n",
    "pd.set_option(\"display.max_rows\", None)\n",
    "pd.set_option(\"display.max_columns\", None)"
   ]
  },
  {
   "cell_type": "code",
   "execution_count": 3,
   "id": "36986cf8",
   "metadata": {},
   "outputs": [
    {
     "data": {
      "text/html": [
       "<div>\n",
       "<style scoped>\n",
       "    .dataframe tbody tr th:only-of-type {\n",
       "        vertical-align: middle;\n",
       "    }\n",
       "\n",
       "    .dataframe tbody tr th {\n",
       "        vertical-align: top;\n",
       "    }\n",
       "\n",
       "    .dataframe thead th {\n",
       "        text-align: right;\n",
       "    }\n",
       "</style>\n",
       "<table border=\"1\" class=\"dataframe\">\n",
       "  <thead>\n",
       "    <tr style=\"text-align: right;\">\n",
       "      <th></th>\n",
       "      <th>Flight_Name</th>\n",
       "      <th>Arrival_Location</th>\n",
       "      <th>Destination_Location</th>\n",
       "      <th>No of Stops</th>\n",
       "      <th>Price_final</th>\n",
       "      <th>Arrival_time_hour</th>\n",
       "      <th>Arrival_time_min</th>\n",
       "      <th>Destination_time_hour</th>\n",
       "      <th>Destination_time_min</th>\n",
       "      <th>Durations</th>\n",
       "      <th>Day</th>\n",
       "      <th>Flight_Date</th>\n",
       "      <th>Month</th>\n",
       "    </tr>\n",
       "  </thead>\n",
       "  <tbody>\n",
       "    <tr>\n",
       "      <th>0</th>\n",
       "      <td>Spice Jet</td>\n",
       "      <td>DEL</td>\n",
       "      <td>BLR</td>\n",
       "      <td>Non Stop</td>\n",
       "      <td>9419.0</td>\n",
       "      <td>20</td>\n",
       "      <td>0</td>\n",
       "      <td>22</td>\n",
       "      <td>30</td>\n",
       "      <td>150</td>\n",
       "      <td>Wed</td>\n",
       "      <td>20</td>\n",
       "      <td>Jul</td>\n",
       "    </tr>\n",
       "    <tr>\n",
       "      <th>1</th>\n",
       "      <td>Go Air</td>\n",
       "      <td>DEL</td>\n",
       "      <td>BLR</td>\n",
       "      <td>Non Stop</td>\n",
       "      <td>9419.0</td>\n",
       "      <td>20</td>\n",
       "      <td>30</td>\n",
       "      <td>23</td>\n",
       "      <td>25</td>\n",
       "      <td>175</td>\n",
       "      <td>Wed</td>\n",
       "      <td>20</td>\n",
       "      <td>Jul</td>\n",
       "    </tr>\n",
       "    <tr>\n",
       "      <th>2</th>\n",
       "      <td>Air Asia</td>\n",
       "      <td>DEL</td>\n",
       "      <td>BLR</td>\n",
       "      <td>Non Stop</td>\n",
       "      <td>9419.0</td>\n",
       "      <td>8</td>\n",
       "      <td>10</td>\n",
       "      <td>10</td>\n",
       "      <td>40</td>\n",
       "      <td>150</td>\n",
       "      <td>Wed</td>\n",
       "      <td>20</td>\n",
       "      <td>Jul</td>\n",
       "    </tr>\n",
       "    <tr>\n",
       "      <th>3</th>\n",
       "      <td>Spice Jet</td>\n",
       "      <td>DEL</td>\n",
       "      <td>BLR</td>\n",
       "      <td>Non Stop</td>\n",
       "      <td>9419.0</td>\n",
       "      <td>6</td>\n",
       "      <td>5</td>\n",
       "      <td>8</td>\n",
       "      <td>55</td>\n",
       "      <td>170</td>\n",
       "      <td>Wed</td>\n",
       "      <td>20</td>\n",
       "      <td>Jul</td>\n",
       "    </tr>\n",
       "    <tr>\n",
       "      <th>4</th>\n",
       "      <td>Air Asia</td>\n",
       "      <td>DEL</td>\n",
       "      <td>BLR</td>\n",
       "      <td>Non Stop</td>\n",
       "      <td>9945.0</td>\n",
       "      <td>9</td>\n",
       "      <td>35</td>\n",
       "      <td>12</td>\n",
       "      <td>25</td>\n",
       "      <td>170</td>\n",
       "      <td>Wed</td>\n",
       "      <td>20</td>\n",
       "      <td>Jul</td>\n",
       "    </tr>\n",
       "  </tbody>\n",
       "</table>\n",
       "</div>"
      ],
      "text/plain": [
       "  Flight_Name Arrival_Location Destination_Location No of Stops  Price_final  \\\n",
       "0   Spice Jet              DEL                  BLR    Non Stop       9419.0   \n",
       "1      Go Air              DEL                  BLR    Non Stop       9419.0   \n",
       "2    Air Asia              DEL                  BLR    Non Stop       9419.0   \n",
       "3   Spice Jet              DEL                  BLR    Non Stop       9419.0   \n",
       "4    Air Asia              DEL                  BLR    Non Stop       9945.0   \n",
       "\n",
       "   Arrival_time_hour  Arrival_time_min  Destination_time_hour  \\\n",
       "0                 20                 0                     22   \n",
       "1                 20                30                     23   \n",
       "2                  8                10                     10   \n",
       "3                  6                 5                      8   \n",
       "4                  9                35                     12   \n",
       "\n",
       "   Destination_time_min  Durations   Day  Flight_Date Month  \n",
       "0                    30        150   Wed           20   Jul  \n",
       "1                    25        175   Wed           20   Jul  \n",
       "2                    40        150   Wed           20   Jul  \n",
       "3                    55        170   Wed           20   Jul  \n",
       "4                    25        170   Wed           20   Jul  "
      ]
     },
     "execution_count": 3,
     "metadata": {},
     "output_type": "execute_result"
    }
   ],
   "source": [
    "df.head()"
   ]
  },
  {
   "cell_type": "code",
   "execution_count": 4,
   "id": "5cc4caf9",
   "metadata": {},
   "outputs": [
    {
     "name": "stdout",
     "output_type": "stream",
     "text": [
      "(1875, 13)\n"
     ]
    }
   ],
   "source": [
    "print(df.shape) # checking size of the dataset"
   ]
  },
  {
   "cell_type": "code",
   "execution_count": 5,
   "id": "6a3f9f37",
   "metadata": {},
   "outputs": [
    {
     "data": {
      "text/plain": [
       "Flight_Name               object\n",
       "Arrival_Location          object\n",
       "Destination_Location      object\n",
       "No of Stops               object\n",
       "Price_final              float64\n",
       "Arrival_time_hour          int64\n",
       "Arrival_time_min           int64\n",
       "Destination_time_hour      int64\n",
       "Destination_time_min       int64\n",
       "Durations                  int64\n",
       "Day                       object\n",
       "Flight_Date                int64\n",
       "Month                     object\n",
       "dtype: object"
      ]
     },
     "execution_count": 5,
     "metadata": {},
     "output_type": "execute_result"
    }
   ],
   "source": [
    "df.dtypes  # checking datatypes"
   ]
  },
  {
   "cell_type": "code",
   "execution_count": 6,
   "id": "ca8ff5db",
   "metadata": {},
   "outputs": [
    {
     "data": {
      "text/plain": [
       "<AxesSubplot:>"
      ]
     },
     "execution_count": 6,
     "metadata": {},
     "output_type": "execute_result"
    },
    {
     "data": {
      "image/png": "[encoded data removed]",
      "text/plain": [
       "<Figure size 1440x360 with 3 Axes>"
      ]
     },
     "metadata": {
      "needs_background": "light"
     },
     "output_type": "display_data"
    }
   ],
   "source": [
    "import missingno\n",
    "missingno.bar(df, figsize = (20,5), color=\"dodgerblue\")"
   ]
  },
  {
   "cell_type": "code",
   "execution_count": 7,
   "id": "3b795e43",
   "metadata": {},
   "outputs": [],
   "source": [
    "x = df.drop('Price_final', axis = 1)\n",
    "y = df['Price_final']"
   ]
  },
  {
   "cell_type": "code",
   "execution_count": 9,
   "id": "8f5498dd",
   "metadata": {},
   "outputs": [
    {
     "data": {
      "text/html": [
       "<div>\n",
       "<style scoped>\n",
       "    .dataframe tbody tr th:only-of-type {\n",
       "        vertical-align: middle;\n",
       "    }\n",
       "\n",
       "    .dataframe tbody tr th {\n",
       "        vertical-align: top;\n",
       "    }\n",
       "\n",
       "    .dataframe thead th {\n",
       "        text-align: right;\n",
       "    }\n",
       "</style>\n",
       "<table border=\"1\" class=\"dataframe\">\n",
       "  <thead>\n",
       "    <tr style=\"text-align: right;\">\n",
       "      <th></th>\n",
       "      <th>Flight_Name</th>\n",
       "      <th>Arrival_Location</th>\n",
       "      <th>Destination_Location</th>\n",
       "      <th>No of Stops</th>\n",
       "      <th>Arrival_time_hour</th>\n",
       "      <th>Arrival_time_min</th>\n",
       "      <th>Destination_time_hour</th>\n",
       "      <th>Destination_time_min</th>\n",
       "      <th>Durations</th>\n",
       "      <th>Day</th>\n",
       "      <th>Flight_Date</th>\n",
       "      <th>Month</th>\n",
       "    </tr>\n",
       "  </thead>\n",
       "  <tbody>\n",
       "    <tr>\n",
       "      <th>0</th>\n",
       "      <td>4.0</td>\n",
       "      <td>0.0</td>\n",
       "      <td>0.0</td>\n",
       "      <td>2.0</td>\n",
       "      <td>20</td>\n",
       "      <td>0</td>\n",
       "      <td>22</td>\n",
       "      <td>30</td>\n",
       "      <td>150</td>\n",
       "      <td>6.0</td>\n",
       "      <td>20</td>\n",
       "      <td>0.0</td>\n",
       "    </tr>\n",
       "    <tr>\n",
       "      <th>1</th>\n",
       "      <td>2.0</td>\n",
       "      <td>0.0</td>\n",
       "      <td>0.0</td>\n",
       "      <td>2.0</td>\n",
       "      <td>20</td>\n",
       "      <td>30</td>\n",
       "      <td>23</td>\n",
       "      <td>25</td>\n",
       "      <td>175</td>\n",
       "      <td>6.0</td>\n",
       "      <td>20</td>\n",
       "      <td>0.0</td>\n",
       "    </tr>\n",
       "    <tr>\n",
       "      <th>2</th>\n",
       "      <td>0.0</td>\n",
       "      <td>0.0</td>\n",
       "      <td>0.0</td>\n",
       "      <td>2.0</td>\n",
       "      <td>8</td>\n",
       "      <td>10</td>\n",
       "      <td>10</td>\n",
       "      <td>40</td>\n",
       "      <td>150</td>\n",
       "      <td>6.0</td>\n",
       "      <td>20</td>\n",
       "      <td>0.0</td>\n",
       "    </tr>\n",
       "    <tr>\n",
       "      <th>3</th>\n",
       "      <td>4.0</td>\n",
       "      <td>0.0</td>\n",
       "      <td>0.0</td>\n",
       "      <td>2.0</td>\n",
       "      <td>6</td>\n",
       "      <td>5</td>\n",
       "      <td>8</td>\n",
       "      <td>55</td>\n",
       "      <td>170</td>\n",
       "      <td>6.0</td>\n",
       "      <td>20</td>\n",
       "      <td>0.0</td>\n",
       "    </tr>\n",
       "    <tr>\n",
       "      <th>4</th>\n",
       "      <td>0.0</td>\n",
       "      <td>0.0</td>\n",
       "      <td>0.0</td>\n",
       "      <td>2.0</td>\n",
       "      <td>9</td>\n",
       "      <td>35</td>\n",
       "      <td>12</td>\n",
       "      <td>25</td>\n",
       "      <td>170</td>\n",
       "      <td>6.0</td>\n",
       "      <td>20</td>\n",
       "      <td>0.0</td>\n",
       "    </tr>\n",
       "  </tbody>\n",
       "</table>\n",
       "</div>"
      ],
      "text/plain": [
       "   Flight_Name  Arrival_Location  Destination_Location  No of Stops  \\\n",
       "0          4.0               0.0                   0.0          2.0   \n",
       "1          2.0               0.0                   0.0          2.0   \n",
       "2          0.0               0.0                   0.0          2.0   \n",
       "3          4.0               0.0                   0.0          2.0   \n",
       "4          0.0               0.0                   0.0          2.0   \n",
       "\n",
       "   Arrival_time_hour  Arrival_time_min  Destination_time_hour  \\\n",
       "0                 20                 0                     22   \n",
       "1                 20                30                     23   \n",
       "2                  8                10                     10   \n",
       "3                  6                 5                      8   \n",
       "4                  9                35                     12   \n",
       "\n",
       "   Destination_time_min  Durations  Day  Flight_Date  Month  \n",
       "0                    30        150  6.0           20    0.0  \n",
       "1                    25        175  6.0           20    0.0  \n",
       "2                    40        150  6.0           20    0.0  \n",
       "3                    55        170  6.0           20    0.0  \n",
       "4                    25        170  6.0           20    0.0  "
      ]
     },
     "execution_count": 9,
     "metadata": {},
     "output_type": "execute_result"
    }
   ],
   "source": [
    "from sklearn.preprocessing import OrdinalEncoder\n",
    "onc = OrdinalEncoder()\n",
    "\n",
    "for i in x.select_dtypes(include = 'object').columns:\n",
    "    x[i] = onc.fit_transform(x[i].values.reshape(-1,1))\n",
    "    \n",
    "x.head()"
   ]
  },
  {
   "cell_type": "markdown",
   "id": "c49bb78c",
   "metadata": {},
   "source": [
    "### Feature selection using Basic Ridge Regression Model"
   ]
  },
  {
   "cell_type": "code",
   "execution_count": 10,
   "id": "0a01441b",
   "metadata": {},
   "outputs": [
    {
     "name": "stdout",
     "output_type": "stream",
     "text": [
      "Fitting 5 folds for each of 2 candidates, totalling 10 fits\n",
      "[CV 1/5] END ..........model__alpha=1.0;, score=-19927157.484 total time=   0.1s\n",
      "[CV 2/5] END ...........model__alpha=1.0;, score=-8972326.008 total time=   0.0s\n",
      "[CV 3/5] END ..........model__alpha=1.0;, score=-18742660.150 total time=   0.0s\n",
      "[CV 4/5] END ..........model__alpha=1.0;, score=-14534551.003 total time=   0.0s\n",
      "[CV 5/5] END ...........model__alpha=1.0;, score=-7789789.523 total time=   0.0s\n",
      "[CV 1/5] END ..........model__alpha=0.1;, score=-19938230.905 total time=   0.0s\n",
      "[CV 2/5] END ...........model__alpha=0.1;, score=-8973983.095 total time=   0.0s\n",
      "[CV 3/5] END ..........model__alpha=0.1;, score=-18741473.154 total time=   0.0s\n",
      "[CV 4/5] END ..........model__alpha=0.1;, score=-14536015.360 total time=   0.0s\n",
      "[CV 5/5] END ...........model__alpha=0.1;, score=-7790000.995 total time=   0.0s\n"
     ]
    }
   ],
   "source": [
    "from sklearn.pipeline import Pipeline\n",
    "from sklearn.linear_model import Ridge\n",
    "from sklearn.preprocessing import StandardScaler\n",
    "from sklearn.model_selection import train_test_split, GridSearchCV\n",
    "\n",
    "pipeline = Pipeline([\n",
    "                     ('scaler',StandardScaler()),\n",
    "                     ('model',Ridge())\n",
    "])\n",
    "\n",
    "search = GridSearchCV(pipeline,\n",
    "                      {'model__alpha':[1.0, 0.1]},\n",
    "                      cv = 5, scoring=\"neg_mean_squared_error\",verbose=3)\n",
    "\n",
    "search.fit(x,y)\n",
    "\n",
    "search.best_params_\n",
    "\n",
    "coefficients = search.best_estimator_.named_steps['model'].coef_"
   ]
  },
  {
   "cell_type": "code",
   "execution_count": 11,
   "id": "cde1b9c9",
   "metadata": {},
   "outputs": [
    {
     "data": {
      "text/html": [
       "<div>\n",
       "<style scoped>\n",
       "    .dataframe tbody tr th:only-of-type {\n",
       "        vertical-align: middle;\n",
       "    }\n",
       "\n",
       "    .dataframe tbody tr th {\n",
       "        vertical-align: top;\n",
       "    }\n",
       "\n",
       "    .dataframe thead th {\n",
       "        text-align: right;\n",
       "    }\n",
       "</style>\n",
       "<table border=\"1\" class=\"dataframe\">\n",
       "  <thead>\n",
       "    <tr style=\"text-align: right;\">\n",
       "      <th></th>\n",
       "      <th>columns</th>\n",
       "      <th>importance</th>\n",
       "    </tr>\n",
       "  </thead>\n",
       "  <tbody>\n",
       "    <tr>\n",
       "      <th>0</th>\n",
       "      <td>Flight_Name</td>\n",
       "      <td>1289.380083</td>\n",
       "    </tr>\n",
       "    <tr>\n",
       "      <th>1</th>\n",
       "      <td>Arrival_Location</td>\n",
       "      <td>0.000000</td>\n",
       "    </tr>\n",
       "    <tr>\n",
       "      <th>2</th>\n",
       "      <td>Destination_Location</td>\n",
       "      <td>0.000000</td>\n",
       "    </tr>\n",
       "    <tr>\n",
       "      <th>3</th>\n",
       "      <td>No of Stops</td>\n",
       "      <td>79.810159</td>\n",
       "    </tr>\n",
       "    <tr>\n",
       "      <th>4</th>\n",
       "      <td>Arrival_time_hour</td>\n",
       "      <td>57.483622</td>\n",
       "    </tr>\n",
       "    <tr>\n",
       "      <th>5</th>\n",
       "      <td>Arrival_time_min</td>\n",
       "      <td>236.096063</td>\n",
       "    </tr>\n",
       "    <tr>\n",
       "      <th>6</th>\n",
       "      <td>Destination_time_hour</td>\n",
       "      <td>448.652184</td>\n",
       "    </tr>\n",
       "    <tr>\n",
       "      <th>7</th>\n",
       "      <td>Destination_time_min</td>\n",
       "      <td>74.874890</td>\n",
       "    </tr>\n",
       "    <tr>\n",
       "      <th>8</th>\n",
       "      <td>Durations</td>\n",
       "      <td>688.819620</td>\n",
       "    </tr>\n",
       "    <tr>\n",
       "      <th>9</th>\n",
       "      <td>Day</td>\n",
       "      <td>205.879532</td>\n",
       "    </tr>\n",
       "    <tr>\n",
       "      <th>10</th>\n",
       "      <td>Flight_Date</td>\n",
       "      <td>290.091946</td>\n",
       "    </tr>\n",
       "    <tr>\n",
       "      <th>11</th>\n",
       "      <td>Month</td>\n",
       "      <td>0.000000</td>\n",
       "    </tr>\n",
       "  </tbody>\n",
       "</table>\n",
       "</div>"
      ],
      "text/plain": [
       "                  columns   importance\n",
       "0             Flight_Name  1289.380083\n",
       "1        Arrival_Location     0.000000\n",
       "2    Destination_Location     0.000000\n",
       "3             No of Stops    79.810159\n",
       "4       Arrival_time_hour    57.483622\n",
       "5        Arrival_time_min   236.096063\n",
       "6   Destination_time_hour   448.652184\n",
       "7    Destination_time_min    74.874890\n",
       "8               Durations   688.819620\n",
       "9                     Day   205.879532\n",
       "10            Flight_Date   290.091946\n",
       "11                  Month     0.000000"
      ]
     },
     "execution_count": 11,
     "metadata": {},
     "output_type": "execute_result"
    }
   ],
   "source": [
    "importance = np.abs(coefficients)\n",
    "pd.DataFrame({'columns' : x.keys(), 'importance': importance} )"
   ]
  },
  {
   "cell_type": "markdown",
   "id": "3688560f",
   "metadata": {},
   "source": [
    "Here we can find that **Arrival_Location, Destination_Location and Month are shows 0 (zero) importance** because they \n",
    "have **only one unique value** as per dataset. \n",
    "Because of these only one unique value, these columns dataset are not liable for model prediction.\n",
    "\n",
    "Ridge regression penalized the coefficient of features, which are not showing importance in model building."
   ]
  },
  {
   "cell_type": "code",
   "execution_count": null,
   "id": "e3a4bcc2",
   "metadata": {},
   "outputs": [],
   "source": []
  }
 ],
 "metadata": {
  "kernelspec": {
   "display_name": "Python 3 (ipykernel)",
   "language": "python",
   "name": "python3"
  },
  "language_info": {
   "codemirror_mode": {
    "name": "ipython",
    "version": 3
   },
   "file_extension": ".py",
   "mimetype": "text/x-python",
   "name": "python",
   "nbconvert_exporter": "python",
   "pygments_lexer": "ipython3",
   "version": "3.7.3"
  }
 },
 "nbformat": 4,
 "nbformat_minor": 5
}
